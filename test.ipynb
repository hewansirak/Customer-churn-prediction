{
 "cells": [
  {
   "cell_type": "code",
   "execution_count": 4,
   "metadata": {},
   "outputs": [
    {
     "name": "stdout",
     "output_type": "stream",
     "text": [
      "Error: 500 Internal Server Error\n"
     ]
    }
   ],
   "source": [
    "import requests\n",
    "import json\n",
    "\n",
    "url = \" \"\n",
    "\n",
    "customer_data = {\n",
    "    \"Credit Score\": 700,\n",
    "    \"Geography\": \"France\",\n",
    "    \"Gender\": \"Female\",\n",
    "    \"Age\": 12,\n",
    "    \"Tenure\": 0,\n",
    "    \"Balance\": 0,\n",
    "    \"NumOfProducts\": 3,\n",
    "    \"HasCrCard\": 1,\n",
    "    \"IsActiveMember\": 0,\n",
    "    \"EstimatedSalary\": 8\n",
    "}\n",
    "\n",
    "# POST Request\n",
    "\n",
    "response = requests.post(url, json=customer_data)\n",
    "if response.status_code == 200:\n",
    "    result = response.json()\n",
    "    print(result)\n",
    "else:\n",
    "    print(\"Error:\", response.status_code, response.text)"
   ]
  },
  {
   "cell_type": "code",
   "execution_count": null,
   "metadata": {},
   "outputs": [],
   "source": []
  },
  {
   "cell_type": "code",
   "execution_count": null,
   "metadata": {},
   "outputs": [],
   "source": []
  }
 ],
 "metadata": {
  "kernelspec": {
   "display_name": "Python 3",
   "language": "python",
   "name": "python3"
  },
  "language_info": {
   "codemirror_mode": {
    "name": "ipython",
    "version": 3
   },
   "file_extension": ".py",
   "mimetype": "text/x-python",
   "name": "python",
   "nbconvert_exporter": "python",
   "pygments_lexer": "ipython3",
   "version": "3.11.0"
  }
 },
 "nbformat": 4,
 "nbformat_minor": 2
}
